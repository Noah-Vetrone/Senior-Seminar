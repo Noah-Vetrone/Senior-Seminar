{
  "nbformat": 4,
  "nbformat_minor": 0,
  "metadata": {
    "colab": {
      "name": "Machine Learning Models.ipynb",
      "provenance": [],
      "collapsed_sections": []
    },
    "kernelspec": {
      "name": "python3",
      "display_name": "Python 3"
    },
    "language_info": {
      "name": "python"
    }
  },
  "cells": [
    {
      "cell_type": "code",
      "metadata": {
        "id": "jNkAK41836s7"
      },
      "source": [
        "from sklearn.ensemble import RandomForestClassifier, VotingClassifier\n",
        "from sklearn.model_selection import cross_val_score, GridSearchCV\n",
        "from sklearn.tree import DecisionTreeClassifier\n",
        "import xgboost as xgboost\n",
        "from sklearn import tree, metrics\n",
        "from sklearn.linear_model import LogisticRegression\n",
        "import pandas as pd\n",
        "import numpy as np\n",
        "import matplotlib.pyplot as plt\n",
        "from datetime import datetime\n",
        "import seaborn as sb\n",
        "from sklearn.svm import SVC\n",
        "from sklearn.metrics import accuracy_score\n",
        "from sklearn import tree"
      ],
      "execution_count": null,
      "outputs": []
    },
    {
      "cell_type": "code",
      "metadata": {
        "colab": {
          "base_uri": "https://localhost:8080/",
          "height": 204
        },
        "id": "tu-6D9C2UE3q",
        "outputId": "1596c709-f7a4-4ab1-a22b-e474aaac3a14"
      },
      "source": [
        "gameData = pd.read_csv('finalData.csv', index_col=0)\n",
        "for i in range(len(gameData)):\n",
        "  gameData.iloc[i, 0] = datetime.strptime(gameData.iloc[i, 0], '%Y-%m-%d').date()\n",
        "gameData.head()"
      ],
      "execution_count": null,
      "outputs": [
        {
          "output_type": "execute_result",
          "data": {
            "text/html": [
              "<div>\n",
              "<style scoped>\n",
              "    .dataframe tbody tr th:only-of-type {\n",
              "        vertical-align: middle;\n",
              "    }\n",
              "\n",
              "    .dataframe tbody tr th {\n",
              "        vertical-align: top;\n",
              "    }\n",
              "\n",
              "    .dataframe thead th {\n",
              "        text-align: right;\n",
              "    }\n",
              "</style>\n",
              "<table border=\"1\" class=\"dataframe\">\n",
              "  <thead>\n",
              "    <tr style=\"text-align: right;\">\n",
              "      <th></th>\n",
              "      <th>game_date</th>\n",
              "      <th>win/loss</th>\n",
              "      <th>ΔPE</th>\n",
              "      <th>ΔPE_10d</th>\n",
              "      <th>Log5</th>\n",
              "      <th>Whisnant</th>\n",
              "      <th>ΔOBP</th>\n",
              "      <th>ΔOBP_10d</th>\n",
              "      <th>ΔSLG</th>\n",
              "      <th>ΔSLG_10d</th>\n",
              "      <th>ΔWHIP</th>\n",
              "      <th>ΔWHIP_10d</th>\n",
              "      <th>ΔFIP</th>\n",
              "      <th>ΔRA_variance</th>\n",
              "      <th>ΔSP_ERA</th>\n",
              "    </tr>\n",
              "  </thead>\n",
              "  <tbody>\n",
              "    <tr>\n",
              "      <th>0</th>\n",
              "      <td>2000-05-01</td>\n",
              "      <td>0.0</td>\n",
              "      <td>0.225534</td>\n",
              "      <td>0.349611</td>\n",
              "      <td>0.712574</td>\n",
              "      <td>0.626283</td>\n",
              "      <td>0.02680</td>\n",
              "      <td>0.03155</td>\n",
              "      <td>0.01638</td>\n",
              "      <td>0.09580</td>\n",
              "      <td>-0.1894</td>\n",
              "      <td>-0.21694</td>\n",
              "      <td>-0.28194</td>\n",
              "      <td>1.302627</td>\n",
              "      <td>1.32</td>\n",
              "    </tr>\n",
              "    <tr>\n",
              "      <th>1</th>\n",
              "      <td>2000-05-01</td>\n",
              "      <td>0.0</td>\n",
              "      <td>-0.117058</td>\n",
              "      <td>-0.017102</td>\n",
              "      <td>0.500000</td>\n",
              "      <td>0.492624</td>\n",
              "      <td>0.00194</td>\n",
              "      <td>0.00486</td>\n",
              "      <td>0.04238</td>\n",
              "      <td>0.05052</td>\n",
              "      <td>0.1129</td>\n",
              "      <td>0.44984</td>\n",
              "      <td>1.42348</td>\n",
              "      <td>0.761296</td>\n",
              "      <td>0.08</td>\n",
              "    </tr>\n",
              "    <tr>\n",
              "      <th>2</th>\n",
              "      <td>2000-05-01</td>\n",
              "      <td>0.0</td>\n",
              "      <td>-0.036871</td>\n",
              "      <td>0.168035</td>\n",
              "      <td>0.318179</td>\n",
              "      <td>0.588245</td>\n",
              "      <td>0.00175</td>\n",
              "      <td>0.01670</td>\n",
              "      <td>0.04014</td>\n",
              "      <td>0.02216</td>\n",
              "      <td>0.1786</td>\n",
              "      <td>0.09465</td>\n",
              "      <td>1.27970</td>\n",
              "      <td>-0.586304</td>\n",
              "      <td>0.73</td>\n",
              "    </tr>\n",
              "    <tr>\n",
              "      <th>3</th>\n",
              "      <td>2000-05-01</td>\n",
              "      <td>1.0</td>\n",
              "      <td>-0.133568</td>\n",
              "      <td>-0.031010</td>\n",
              "      <td>0.335589</td>\n",
              "      <td>0.515791</td>\n",
              "      <td>0.01755</td>\n",
              "      <td>-0.00729</td>\n",
              "      <td>0.00778</td>\n",
              "      <td>0.00353</td>\n",
              "      <td>0.3860</td>\n",
              "      <td>0.62353</td>\n",
              "      <td>1.29577</td>\n",
              "      <td>-0.378339</td>\n",
              "      <td>2.16</td>\n",
              "    </tr>\n",
              "    <tr>\n",
              "      <th>4</th>\n",
              "      <td>2000-05-01</td>\n",
              "      <td>0.0</td>\n",
              "      <td>-0.105874</td>\n",
              "      <td>-0.596740</td>\n",
              "      <td>0.482763</td>\n",
              "      <td>0.334315</td>\n",
              "      <td>-0.03854</td>\n",
              "      <td>-0.09203</td>\n",
              "      <td>-0.03875</td>\n",
              "      <td>-0.07553</td>\n",
              "      <td>0.0105</td>\n",
              "      <td>-0.03445</td>\n",
              "      <td>0.39801</td>\n",
              "      <td>0.419179</td>\n",
              "      <td>1.07</td>\n",
              "    </tr>\n",
              "  </tbody>\n",
              "</table>\n",
              "</div>"
            ],
            "text/plain": [
              "    game_date  win/loss       ΔPE  ...     ΔFIP  ΔRA_variance  ΔSP_ERA\n",
              "0  2000-05-01       0.0  0.225534  ... -0.28194      1.302627     1.32\n",
              "1  2000-05-01       0.0 -0.117058  ...  1.42348      0.761296     0.08\n",
              "2  2000-05-01       0.0 -0.036871  ...  1.27970     -0.586304     0.73\n",
              "3  2000-05-01       1.0 -0.133568  ...  1.29577     -0.378339     2.16\n",
              "4  2000-05-01       0.0 -0.105874  ...  0.39801      0.419179     1.07\n",
              "\n",
              "[5 rows x 15 columns]"
            ]
          },
          "metadata": {
            "tags": []
          },
          "execution_count": 104
        }
      ]
    },
    {
      "cell_type": "code",
      "metadata": {
        "id": "zP_Mqr8eWGU6"
      },
      "source": [
        "def getYearIndex(dataframe, year):\n",
        "  for i in range(len(dataframe)):\n",
        "    if dataframe.iloc[i, 0].year == year:\n",
        "      return i\n",
        "      break"
      ],
      "execution_count": null,
      "outputs": []
    },
    {
      "cell_type": "code",
      "metadata": {
        "id": "ijUyWLC-WKEk"
      },
      "source": [
        "trainingData = gameData[:getYearIndex(gameData, 2018)]\n",
        "testingData = gameData[getYearIndex(gameData, 2018):]\n",
        "X_train = trainingData.iloc[:, 2:]\n",
        "y_train = trainingData['win/loss']\n",
        "X_test = testingData.iloc[:, 2:]\n",
        "y_test = testingData['win/loss']"
      ],
      "execution_count": null,
      "outputs": []
    },
    {
      "cell_type": "markdown",
      "metadata": {
        "id": "aUGejlZXW2HZ"
      },
      "source": [
        "Regularized Logistic Regression"
      ]
    },
    {
      "cell_type": "code",
      "metadata": {
        "id": "8CXBTcuxX49K"
      },
      "source": [
        "regularizationConstants = []\n",
        "accuracies = []\n",
        "\n",
        "for c in range(1,10,1):\n",
        "  C = c/10\n",
        "  logisticRegression = LogisticRegression(penalty = 'l2', C=C)\n",
        "  k_folds = cross_val_score(logisticRegression, X_train, y_train, cv=8)\n",
        "  regularizationConstants.append(C)\n",
        "  accuracies.append(k_folds.mean())\n",
        "\n",
        "best_C = regularizationConstants[accuracies.index(max(accuracies))]"
      ],
      "execution_count": null,
      "outputs": []
    },
    {
      "cell_type": "code",
      "metadata": {
        "colab": {
          "base_uri": "https://localhost:8080/"
        },
        "id": "aCjxtWwglIJP",
        "outputId": "4d7a6e9a-092e-4d66-8eec-7b72b9491c32"
      },
      "source": [
        "logisticRegression = LogisticRegression(penalty = 'l2', C=best_C)\n",
        "logisticRegression.fit(X_train, y_train)\n",
        "predictions = logisticRegression.predict(X_test)\n",
        "print('Logistic Regression Accuracy: ' + str(round(100*round(metrics.accuracy_score(y_test, predictions),3),3))[:4] + '%')"
      ],
      "execution_count": null,
      "outputs": [
        {
          "output_type": "stream",
          "text": [
            "Logistic Regression Accuracy: 58.9%\n"
          ],
          "name": "stdout"
        }
      ]
    },
    {
      "cell_type": "markdown",
      "metadata": {
        "id": "lnGZT696adZD"
      },
      "source": [
        "Random Forest Model"
      ]
    },
    {
      "cell_type": "code",
      "metadata": {
        "id": "ul1IAqNQ2Y_a"
      },
      "source": [
        "# Hyperparameter Tuning\n",
        "prev_accuracy = .5\n",
        "optimal_tree_num = 0\n",
        "optimal_depth = 0\n",
        "optimal_criteria = ''\n",
        "optimal_split = 0\n",
        "optimal_features = 0\n",
        "for num_trees in [25, 40, 60, 90, 120, 300]:\n",
        "  for depth in range(4,8):\n",
        "    for max_features in range(3,6):\n",
        "      for criteria in ['gini', 'entropy']:\n",
        "        for split in [10, 15, 20, 50, 80, 120]:\n",
        "          forest = RandomForestClassifier(n_estimators=num_trees, criterion=criteria, \\\n",
        "            max_features=max_features, min_samples_split=optimal_split, max_depth=depth)\n",
        "          k_folds = cross_val_score(forest, X_train, y_train, cv=8)\n",
        "          if k_folds.mean() > prev_accuracy:\n",
        "            optimal_tree_num = num_trees\n",
        "            optimal_depth = depth\n",
        "            optimal_criteria = criteria\n",
        "            optimal_features = max_features\n",
        "            optimal_split = split"
      ],
      "execution_count": null,
      "outputs": []
    },
    {
      "cell_type": "code",
      "metadata": {
        "id": "8hpRQtnhMC93"
      },
      "source": [
        "# grid search\n",
        "n_estimators = [90, 150, 200, 400]\n",
        "criterion = ['entropy', 'gini']\n",
        "max_features = [3,4, 'sqrt']\n",
        "max_depth = [4,5,6,7,8] \n",
        "min_samples_split = [10,45,70]\n",
        "\n",
        "param_grid = {'n_estimators': n_estimators,\n",
        "              'criterion' : criterion,\n",
        "              'max_features': max_features,\n",
        "              'max_depth': max_depth,\n",
        "              'min_samples_split': min_samples_split}\n",
        "\n",
        "randomForest = RandomForestClassifier()\n",
        "grid = GridSearchCV(estimator=randomForest, param_grid=param_grid, cv=12, verbose=4, n_jobs=4)\n",
        "grid.fit(X_train, y_train)"
      ],
      "execution_count": null,
      "outputs": []
    },
    {
      "cell_type": "code",
      "metadata": {
        "colab": {
          "base_uri": "https://localhost:8080/"
        },
        "id": "zfTisLwlRol-",
        "outputId": "bc262533-4bfb-4049-b57e-5045f97c69eb"
      },
      "source": [
        "randomForest = RandomForestClassifier(n_estimators=optimal_tree_num, criterion=optimal_criteria, \\\n",
        "  max_features=max_features, min_samples_split=optimal_split, max_depth=depth)\n",
        "randomForest.fit(X_train, y_train)\n",
        "predictions = randomForest.predict(X_test)\n",
        "print(\"Vegas Odds Accuracy: \" + str(100*Vegas2018_19Accuracy['right/wrong'].sum()/len(Vegas2018_19Accuracy['right/wrong']))[:4] + '%')\n",
        "print('-----------------------------')\n",
        "print('Random Forest Accuracy: ' + str(round(100*round(metrics.accuracy_score(y_test, predictions),3),3))[:4] + '%')"
      ],
      "execution_count": 201,
      "outputs": [
        {
          "output_type": "stream",
          "text": [
            "Vegas Odds Accuracy: 59.4%\n",
            "-----------------------------\n",
            "Random Forest Accuracy: 59.6%\n"
          ],
          "name": "stdout"
        }
      ]
    },
    {
      "cell_type": "code",
      "metadata": {
        "colab": {
          "base_uri": "https://localhost:8080/",
          "height": 381
        },
        "id": "LlbKE-as0Z4D",
        "outputId": "fae47946-81db-43b6-f697-e8de71d12e8e"
      },
      "source": [
        "sorted = randomForest.feature_importances_.argsort()\n",
        "plt.barh(X_train.columns[sorted], randomForest.feature_importances_[sorted])\n",
        "plt.title('Random Forest Feature Importance', fontsize=14)"
      ],
      "execution_count": null,
      "outputs": [
        {
          "output_type": "execute_result",
          "data": {
            "text/plain": [
              "Text(0.5, 1.0, 'Random Forest Feature Importance')"
            ]
          },
          "metadata": {
            "tags": []
          },
          "execution_count": 160
        },
        {
          "output_type": "display_data",
          "data": {
            "image/png": "[encoded data removed]",
            "text/plain": [
              "<Figure size 576x396 with 1 Axes>"
            ]
          },
          "metadata": {
            "tags": []
          }
        }
      ]
    },
    {
      "cell_type": "markdown",
      "metadata": {
        "id": "NLIefCitiDQA"
      },
      "source": [
        "XG Boost Model"
      ]
    },
    {
      "cell_type": "code",
      "metadata": {
        "colab": {
          "base_uri": "https://localhost:8080/"
        },
        "id": "2mgRDdkZRxww",
        "outputId": "8637f2bf-662a-417f-d791-bbc541ea01da"
      },
      "source": [
        "XG = xgboost.XGBClassifier(learning_rate=.00000001, max_depth=7, subsample=.8, colsample_bytree=.3, n_estimators=1000)\n",
        "XG.fit(X_train, y_train)\n",
        "predictions = XG.predict(X_test)\n",
        "print('XG Boost Accuracy: ' + str(round(100*round(metrics.accuracy_score(y_test, predictions),3),3))[:4] + '%')"
      ],
      "execution_count": 202,
      "outputs": [
        {
          "output_type": "stream",
          "text": [
            "XG Boost Accuracy: 59.6%\n"
          ],
          "name": "stdout"
        }
      ]
    },
    {
      "cell_type": "code",
      "metadata": {
        "colab": {
          "base_uri": "https://localhost:8080/",
          "height": 376
        },
        "id": "Qk8qP55Wii4Y",
        "outputId": "2cd7573c-61fe-4c46-d1e6-2f492a6f5fe1"
      },
      "source": [
        "xgboost.plot_importance(XG)\n",
        "plt.style.use('seaborn')"
      ],
      "execution_count": null,
      "outputs": [
        {
          "output_type": "display_data",
          "data": {
            "image/png": "[encoded data removed]",
            "text/plain": [
              "<Figure size 576x396 with 1 Axes>"
            ]
          },
          "metadata": {
            "tags": []
          }
        }
      ]
    },
    {
      "cell_type": "markdown",
      "metadata": {
        "id": "MzzS_0gVWzjc"
      },
      "source": [
        "Support Vector Machine"
      ]
    },
    {
      "cell_type": "code",
      "metadata": {
        "colab": {
          "base_uri": "https://localhost:8080/"
        },
        "id": "2KuwzaJ3WkSw",
        "outputId": "b9188ad9-fc3d-45eb-eb86-bb52165f575a"
      },
      "source": [
        "SVM = SVC()\n",
        "SVM.fit(X_train, y_train)\n",
        "predictions = SVM.predict(X_test)\n",
        "print('Support Vector Machine Accuracy: ' + str(round(100*round(metrics.accuracy_score(y_test, predictions),3),3))[0:4] + '%')"
      ],
      "execution_count": null,
      "outputs": [
        {
          "output_type": "stream",
          "text": [
            "Support Vector Machine Accuracy: 53.1%\n"
          ],
          "name": "stdout"
        }
      ]
    },
    {
      "cell_type": "markdown",
      "metadata": {
        "id": "Mp9wHMw1zMDa"
      },
      "source": [
        "Decision Tree"
      ]
    },
    {
      "cell_type": "code",
      "metadata": {
        "colab": {
          "base_uri": "https://localhost:8080/"
        },
        "id": "HoPkqDsczHhB",
        "outputId": "be55483a-25c9-4bd6-9f8d-42fea8b418ec"
      },
      "source": [
        "decisionTree = DecisionTreeClassifier(max_depth=5)\n",
        "decisionTree.fit(X_train,y_train)\n",
        "pred = decisionTree.predict(X_test)\n",
        "print('Accuracy: ' + str(round(100*round(metrics.accuracy_score(y_test, pred),3), 3)) + '%')"
      ],
      "execution_count": null,
      "outputs": [
        {
          "output_type": "stream",
          "text": [
            "Accuracy: 57.6%\n"
          ],
          "name": "stdout"
        }
      ]
    },
    {
      "cell_type": "code",
      "metadata": {
        "colab": {
          "base_uri": "https://localhost:8080/",
          "height": 381
        },
        "id": "KGUF_SSp0L6v",
        "outputId": "cf2f9a13-9120-45bb-836b-6fc5bbe34254"
      },
      "source": [
        "sorted = decisionTree.feature_importances_.argsort()\n",
        "plt.barh(X_train.columns[sorted], decisionTree.feature_importances_[sorted])\n",
        "plt.title('Decision Tree Feature Importance', fontsize=14)"
      ],
      "execution_count": null,
      "outputs": [
        {
          "output_type": "execute_result",
          "data": {
            "text/plain": [
              "Text(0.5, 1.0, 'Decision Tree Feature Importance')"
            ]
          },
          "metadata": {
            "tags": []
          },
          "execution_count": 159
        },
        {
          "output_type": "display_data",
          "data": {
            "image/png": "[encoded data removed]",
            "text/plain": [
              "<Figure size 576x396 with 1 Axes>"
            ]
          },
          "metadata": {
            "tags": []
          }
        }
      ]
    },
    {
      "cell_type": "markdown",
      "metadata": {
        "id": "fYLsg40OTFtZ"
      },
      "source": [
        "Import New Dataframe That Includes Vegas Betting Odds Data (Web Scraped)"
      ]
    },
    {
      "cell_type": "code",
      "metadata": {
        "id": "cVu8SfFnIjwt"
      },
      "source": [
        "data = data = pd.read_csv('VegasOddsIncluded.csv', index_col=0)\n",
        "for i in range(len(data)):\n",
        "  data.iloc[i, 0] = datetime.strptime(data.iloc[i, 0], '%Y-%m-%d').date()\n",
        "model = data.copy()"
      ],
      "execution_count": null,
      "outputs": []
    },
    {
      "cell_type": "code",
      "metadata": {
        "id": "PZphl-Q__krz",
        "colab": {
          "base_uri": "https://localhost:8080/"
        },
        "outputId": "ce40372e-eab8-4db9-b6c2-02d2c0006ac2"
      },
      "source": [
        "Vegas2019Accuracy = data[getYearIndex(data, 2019):]\n",
        "Vegas2018_19Accuracy = data[getYearIndex(data, 2018):]\n",
        "print(\"'14-'19 Vegas Odds Accuracy: \" + str(100*data['right/wrong'].sum()/len(data['right/wrong']))[:4] + '%')\n",
        "print('-----------------------------------')\n",
        "print(\"'18-'19 Vegas Odds Accuracy: \" + str(100*Vegas2018_19Accuracy['right/wrong'].sum()/len(Vegas2018_19Accuracy['right/wrong']))[:4] + '%')\n",
        "print('-----------------------------------')\n",
        "print(\"'19 Vegas Odds Accuracy: \" + str(100*Vegas2019Accuracy['right/wrong'].sum()/len(Vegas2019Accuracy['right/wrong']))[:4] + '%')"
      ],
      "execution_count": null,
      "outputs": [
        {
          "output_type": "stream",
          "text": [
            "'14-'19 Vegas Odds Accuracy: 58.2%\n",
            "-----------------------------------\n",
            "'18-'19 Vegas Odds Accuracy: 59.4%\n",
            "-----------------------------------\n",
            "'19 Vegas Odds Accuracy: 60.3%\n"
          ],
          "name": "stdout"
        }
      ]
    },
    {
      "cell_type": "code",
      "metadata": {
        "id": "GLlqTKFt6_mq"
      },
      "source": [
        "del model['Vegas_Odds']\n",
        "del model['home_moneyline']\n",
        "del model['home_team']\n",
        "del model['opponent']\n",
        "del model['home_score']\n",
        "del model['away_score']\n",
        "del model['away_team']\n",
        "del model['outcome']\n",
        "del model['prediction']\n",
        "del model['right/wrong']"
      ],
      "execution_count": null,
      "outputs": []
    },
    {
      "cell_type": "code",
      "metadata": {
        "colab": {
          "base_uri": "https://localhost:8080/",
          "height": 204
        },
        "id": "myl8N5sd9u6A",
        "outputId": "31651429-5fa0-4c85-f01d-3ace4ba09e1d"
      },
      "source": [
        "model.tail()"
      ],
      "execution_count": null,
      "outputs": [
        {
          "output_type": "execute_result",
          "data": {
            "text/html": [
              "<div>\n",
              "<style scoped>\n",
              "    .dataframe tbody tr th:only-of-type {\n",
              "        vertical-align: middle;\n",
              "    }\n",
              "\n",
              "    .dataframe tbody tr th {\n",
              "        vertical-align: top;\n",
              "    }\n",
              "\n",
              "    .dataframe thead th {\n",
              "        text-align: right;\n",
              "    }\n",
              "</style>\n",
              "<table border=\"1\" class=\"dataframe\">\n",
              "  <thead>\n",
              "    <tr style=\"text-align: right;\">\n",
              "      <th></th>\n",
              "      <th>date</th>\n",
              "      <th>win/loss</th>\n",
              "      <th>ΔPE</th>\n",
              "      <th>ΔPE_10d</th>\n",
              "      <th>Log5</th>\n",
              "      <th>Whisnant</th>\n",
              "      <th>ΔOBP</th>\n",
              "      <th>ΔOBP_10d</th>\n",
              "      <th>ΔSLG</th>\n",
              "      <th>ΔSLG_10d</th>\n",
              "      <th>ΔWHIP</th>\n",
              "      <th>ΔWHIP_10d</th>\n",
              "      <th>ΔFIP</th>\n",
              "      <th>ΔSP_ERA</th>\n",
              "      <th>ΔRA_variance</th>\n",
              "      <th>moneyline</th>\n",
              "    </tr>\n",
              "  </thead>\n",
              "  <tbody>\n",
              "    <tr>\n",
              "      <th>17950</th>\n",
              "      <td>2019-09-29</td>\n",
              "      <td>1.0</td>\n",
              "      <td>0.171002</td>\n",
              "      <td>-0.107356</td>\n",
              "      <td>0.678307</td>\n",
              "      <td>0.592622</td>\n",
              "      <td>0.02876</td>\n",
              "      <td>-0.01592</td>\n",
              "      <td>0.05014</td>\n",
              "      <td>-0.04985</td>\n",
              "      <td>-0.0754</td>\n",
              "      <td>0.26351</td>\n",
              "      <td>-1.27734</td>\n",
              "      <td>-3.91</td>\n",
              "      <td>0.831274</td>\n",
              "      <td>0.754300</td>\n",
              "    </tr>\n",
              "    <tr>\n",
              "      <th>17951</th>\n",
              "      <td>2019-09-29</td>\n",
              "      <td>1.0</td>\n",
              "      <td>-0.032996</td>\n",
              "      <td>0.154866</td>\n",
              "      <td>0.424606</td>\n",
              "      <td>0.465258</td>\n",
              "      <td>-0.00857</td>\n",
              "      <td>0.00797</td>\n",
              "      <td>-0.01039</td>\n",
              "      <td>0.06714</td>\n",
              "      <td>-0.0515</td>\n",
              "      <td>0.07389</td>\n",
              "      <td>-0.30324</td>\n",
              "      <td>1.70</td>\n",
              "      <td>-0.103719</td>\n",
              "      <td>0.534884</td>\n",
              "    </tr>\n",
              "    <tr>\n",
              "      <th>17952</th>\n",
              "      <td>2019-09-29</td>\n",
              "      <td>1.0</td>\n",
              "      <td>-0.139157</td>\n",
              "      <td>0.092240</td>\n",
              "      <td>0.319915</td>\n",
              "      <td>0.472948</td>\n",
              "      <td>-0.02113</td>\n",
              "      <td>0.01019</td>\n",
              "      <td>-0.00425</td>\n",
              "      <td>0.03649</td>\n",
              "      <td>0.2598</td>\n",
              "      <td>0.36434</td>\n",
              "      <td>1.19332</td>\n",
              "      <td>2.79</td>\n",
              "      <td>-0.398356</td>\n",
              "      <td>0.341297</td>\n",
              "    </tr>\n",
              "    <tr>\n",
              "      <th>17953</th>\n",
              "      <td>2019-09-29</td>\n",
              "      <td>1.0</td>\n",
              "      <td>-0.152471</td>\n",
              "      <td>-0.103326</td>\n",
              "      <td>0.340449</td>\n",
              "      <td>0.427517</td>\n",
              "      <td>-0.02087</td>\n",
              "      <td>0.01428</td>\n",
              "      <td>-0.06016</td>\n",
              "      <td>-0.00498</td>\n",
              "      <td>0.1644</td>\n",
              "      <td>0.53308</td>\n",
              "      <td>0.38177</td>\n",
              "      <td>-0.48</td>\n",
              "      <td>-0.551985</td>\n",
              "      <td>0.425532</td>\n",
              "    </tr>\n",
              "    <tr>\n",
              "      <th>17954</th>\n",
              "      <td>2019-09-29</td>\n",
              "      <td>1.0</td>\n",
              "      <td>0.006089</td>\n",
              "      <td>0.218370</td>\n",
              "      <td>0.493649</td>\n",
              "      <td>0.552652</td>\n",
              "      <td>0.01768</td>\n",
              "      <td>0.07554</td>\n",
              "      <td>0.02091</td>\n",
              "      <td>0.07887</td>\n",
              "      <td>0.0728</td>\n",
              "      <td>-0.29885</td>\n",
              "      <td>0.08420</td>\n",
              "      <td>3.51</td>\n",
              "      <td>-0.156093</td>\n",
              "      <td>0.400000</td>\n",
              "    </tr>\n",
              "  </tbody>\n",
              "</table>\n",
              "</div>"
            ],
            "text/plain": [
              "             date  win/loss       ΔPE  ...  ΔSP_ERA  ΔRA_variance  moneyline\n",
              "17950  2019-09-29       1.0  0.171002  ...    -3.91      0.831274   0.754300\n",
              "17951  2019-09-29       1.0 -0.032996  ...     1.70     -0.103719   0.534884\n",
              "17952  2019-09-29       1.0 -0.139157  ...     2.79     -0.398356   0.341297\n",
              "17953  2019-09-29       1.0 -0.152471  ...    -0.48     -0.551985   0.425532\n",
              "17954  2019-09-29       1.0  0.006089  ...     3.51     -0.156093   0.400000\n",
              "\n",
              "[5 rows x 16 columns]"
            ]
          },
          "metadata": {
            "tags": []
          },
          "execution_count": 175
        }
      ]
    },
    {
      "cell_type": "code",
      "metadata": {
        "id": "ekGcjfYY-VWx"
      },
      "source": [
        "# only have betting Odds going back to 2014\n",
        "trainingData = model[getYearIndex(model, 2014):getYearIndex(model, 2019)]\n",
        "testingData = model[getYearIndex(model, 2019):]\n",
        "X_train = trainingData.iloc[:, 2:]\n",
        "y_train = trainingData['win/loss']\n",
        "X_test = testingData.iloc[:, 2:]\n",
        "y_test = testingData['win/loss']"
      ],
      "execution_count": null,
      "outputs": []
    },
    {
      "cell_type": "code",
      "metadata": {
        "colab": {
          "base_uri": "https://localhost:8080/"
        },
        "id": "i10Hr0hC-Dva",
        "outputId": "a5c5b292-4f52-41ec-9ac2-13be05eaa174"
      },
      "source": [
        "logReg = LogisticRegression(penalty = 'l2', C=.8)\n",
        "logReg.fit(X_train, y_train)\n",
        "predictions = logReg.predict(X_test)\n",
        "print('Logistic Regression Accuracy: ' + str(round(100*round(metrics.accuracy_score(y_test, predictions),3),3)) + '%')"
      ],
      "execution_count": null,
      "outputs": [
        {
          "output_type": "stream",
          "text": [
            "Logistic Regression Accuracy: 60.5%\n"
          ],
          "name": "stdout"
        }
      ]
    },
    {
      "cell_type": "code",
      "metadata": {
        "colab": {
          "base_uri": "https://localhost:8080/"
        },
        "id": "7ERuOjHl4PPk",
        "outputId": "5c8b86e5-64c4-46de-d993-bc6538ac2f80"
      },
      "source": [
        "randomForest = RandomForestClassifier(n_estimators=optimal_tree_num, criterion=optimal_criteria, \\\n",
        "  max_features=max_features, min_samples_split=optimal_split, max_depth=depth)\n",
        "randomForest.fit(X_train, y_train)\n",
        "predictions = randomForest.predict(X_test)\n",
        "scores.append(round(100*round(metrics.accuracy_score(y_test, predictions),3),3))\n",
        "print('Random Forest Accuracy: ' + str(round(100*round(metrics.accuracy_score(y_test, predictions),3),3)) + '%')"
      ],
      "execution_count": null,
      "outputs": [
        {
          "output_type": "stream",
          "text": [
            "Random Forest Accuracy: 61.1%\n"
          ],
          "name": "stdout"
        }
      ]
    }
  ]
}