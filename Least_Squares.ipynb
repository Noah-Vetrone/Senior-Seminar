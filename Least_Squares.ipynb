{
  "nbformat": 4,
  "nbformat_minor": 0,
  "metadata": {
    "colab": {
      "name": "Least Squares",
      "provenance": [],
      "collapsed_sections": []
    },
    "kernelspec": {
      "name": "python3",
      "display_name": "Python 3"
    },
    "language_info": {
      "name": "python"
    }
  },
  "cells": [
    {
      "cell_type": "code",
      "metadata": {
        "id": "xWM3lhXk4clL"
      },
      "source": [
        "import pandas as pd\n",
        "import numpy as np\n",
        "from sklearn.linear_model import LinearRegression\n",
        "from yellowbrick.regressor import ResidualsPlot\n",
        "from datetime import datetime\n",
        "from sklearn import metrics"
      ],
      "execution_count": 1,
      "outputs": []
    },
    {
      "cell_type": "code",
      "metadata": {
        "id": "J0oHZJm_kroC"
      },
      "source": [
        "def getYearIndex(dataframe, year):\n",
        "  for i in range(len(dataframe)):\n",
        "    if dataframe.iloc[i, 0].year == year:\n",
        "      return i\n",
        "      break"
      ],
      "execution_count": 2,
      "outputs": []
    },
    {
      "cell_type": "code",
      "metadata": {
        "colab": {
          "base_uri": "https://localhost:8080/",
          "height": 348
        },
        "id": "MYwhzHH2M-_m",
        "outputId": "339045af-5872-475c-b349-2eb79afaa05e"
      },
      "source": [
        "# import data and create run differential column\n",
        "gameData = pd.read_csv('result.csv', index_col=0)\n",
        "gameData['run_differential'] = gameData['home_score'] - gameData['away_score']\n",
        "for i in range(len(gameData)):\n",
        "  gameData.iloc[i, 0] = datetime.strptime(gameData.iloc[i, 0], '%Y-%m-%d').date()\n",
        "gameData.head()"
      ],
      "execution_count": 3,
      "outputs": [
        {
          "output_type": "execute_result",
          "data": {
            "text/html": [
              "<div>\n",
              "<style scoped>\n",
              "    .dataframe tbody tr th:only-of-type {\n",
              "        vertical-align: middle;\n",
              "    }\n",
              "\n",
              "    .dataframe tbody tr th {\n",
              "        vertical-align: top;\n",
              "    }\n",
              "\n",
              "    .dataframe thead th {\n",
              "        text-align: right;\n",
              "    }\n",
              "</style>\n",
              "<table border=\"1\" class=\"dataframe\">\n",
              "  <thead>\n",
              "    <tr style=\"text-align: right;\">\n",
              "      <th></th>\n",
              "      <th>date</th>\n",
              "      <th>win/loss</th>\n",
              "      <th>home_team</th>\n",
              "      <th>opponent</th>\n",
              "      <th>ΔPE</th>\n",
              "      <th>ΔPE_10d</th>\n",
              "      <th>Log5</th>\n",
              "      <th>Whisnant</th>\n",
              "      <th>ΔOBP</th>\n",
              "      <th>ΔOBP_10d</th>\n",
              "      <th>ΔSLG</th>\n",
              "      <th>ΔSLG_10d</th>\n",
              "      <th>ΔWHIP</th>\n",
              "      <th>ΔWHIP_10d</th>\n",
              "      <th>ΔFIP</th>\n",
              "      <th>ΔSP_ERA</th>\n",
              "      <th>ΔRA_variance</th>\n",
              "      <th>Vegas_Odds</th>\n",
              "      <th>home_moneyline</th>\n",
              "      <th>home_score</th>\n",
              "      <th>away_score</th>\n",
              "      <th>away_team</th>\n",
              "      <th>moneyline</th>\n",
              "      <th>outcome</th>\n",
              "      <th>prediction</th>\n",
              "      <th>right/wrong</th>\n",
              "      <th>run_differential</th>\n",
              "    </tr>\n",
              "  </thead>\n",
              "  <tbody>\n",
              "    <tr>\n",
              "      <th>0</th>\n",
              "      <td>2011-07-05</td>\n",
              "      <td>1.0</td>\n",
              "      <td>Pittsburgh Pirates</td>\n",
              "      <td>Houston Astros</td>\n",
              "      <td>0.112376</td>\n",
              "      <td>0.173056</td>\n",
              "      <td>0.678390</td>\n",
              "      <td>0.487362</td>\n",
              "      <td>-0.00226</td>\n",
              "      <td>0.02505</td>\n",
              "      <td>-0.02195</td>\n",
              "      <td>-0.00245</td>\n",
              "      <td>-0.1074</td>\n",
              "      <td>-0.33554</td>\n",
              "      <td>-0.25961</td>\n",
              "      <td>-0.32</td>\n",
              "      <td>0.627287</td>\n",
              "      <td>NaN</td>\n",
              "      <td>-110.0</td>\n",
              "      <td>5.0</td>\n",
              "      <td>1.0</td>\n",
              "      <td>HOU</td>\n",
              "      <td>0.523810</td>\n",
              "      <td>1.0</td>\n",
              "      <td>1.0</td>\n",
              "      <td>1.0</td>\n",
              "      <td>4.0</td>\n",
              "    </tr>\n",
              "    <tr>\n",
              "      <th>1</th>\n",
              "      <td>2011-07-05</td>\n",
              "      <td>0.0</td>\n",
              "      <td>Chicago White Sox</td>\n",
              "      <td>Kansas City Royals</td>\n",
              "      <td>0.057464</td>\n",
              "      <td>-0.276411</td>\n",
              "      <td>0.600000</td>\n",
              "      <td>0.465700</td>\n",
              "      <td>-0.01046</td>\n",
              "      <td>-0.04832</td>\n",
              "      <td>-0.00975</td>\n",
              "      <td>-0.11011</td>\n",
              "      <td>-0.1715</td>\n",
              "      <td>-0.45601</td>\n",
              "      <td>-0.89458</td>\n",
              "      <td>0.18</td>\n",
              "      <td>0.226833</td>\n",
              "      <td>NaN</td>\n",
              "      <td>-145.0</td>\n",
              "      <td>3.0</td>\n",
              "      <td>5.0</td>\n",
              "      <td>KC</td>\n",
              "      <td>0.591837</td>\n",
              "      <td>0.0</td>\n",
              "      <td>1.0</td>\n",
              "      <td>0.0</td>\n",
              "      <td>-2.0</td>\n",
              "    </tr>\n",
              "    <tr>\n",
              "      <th>2</th>\n",
              "      <td>2011-07-05</td>\n",
              "      <td>0.0</td>\n",
              "      <td>Los Angeles Dodgers</td>\n",
              "      <td>New York Mets</td>\n",
              "      <td>-0.060112</td>\n",
              "      <td>-0.522949</td>\n",
              "      <td>0.424474</td>\n",
              "      <td>0.432308</td>\n",
              "      <td>-0.01361</td>\n",
              "      <td>-0.04924</td>\n",
              "      <td>-0.01581</td>\n",
              "      <td>-0.08220</td>\n",
              "      <td>-0.0157</td>\n",
              "      <td>-0.41377</td>\n",
              "      <td>-0.40312</td>\n",
              "      <td>0.05</td>\n",
              "      <td>-0.087979</td>\n",
              "      <td>NaN</td>\n",
              "      <td>-130.0</td>\n",
              "      <td>0.0</td>\n",
              "      <td>6.0</td>\n",
              "      <td>NYM</td>\n",
              "      <td>0.565217</td>\n",
              "      <td>0.0</td>\n",
              "      <td>1.0</td>\n",
              "      <td>0.0</td>\n",
              "      <td>-6.0</td>\n",
              "    </tr>\n",
              "    <tr>\n",
              "      <th>3</th>\n",
              "      <td>2011-07-05</td>\n",
              "      <td>1.0</td>\n",
              "      <td>St. Louis Cardinals</td>\n",
              "      <td>Cincinnati Reds</td>\n",
              "      <td>-0.015314</td>\n",
              "      <td>-0.093653</td>\n",
              "      <td>0.534880</td>\n",
              "      <td>0.494705</td>\n",
              "      <td>0.01016</td>\n",
              "      <td>-0.00726</td>\n",
              "      <td>0.01269</td>\n",
              "      <td>-0.01956</td>\n",
              "      <td>-0.0122</td>\n",
              "      <td>0.05949</td>\n",
              "      <td>-0.46253</td>\n",
              "      <td>-2.32</td>\n",
              "      <td>-0.365017</td>\n",
              "      <td>NaN</td>\n",
              "      <td>-135.0</td>\n",
              "      <td>8.0</td>\n",
              "      <td>1.0</td>\n",
              "      <td>CIN</td>\n",
              "      <td>0.574468</td>\n",
              "      <td>1.0</td>\n",
              "      <td>1.0</td>\n",
              "      <td>1.0</td>\n",
              "      <td>7.0</td>\n",
              "    </tr>\n",
              "    <tr>\n",
              "      <th>4</th>\n",
              "      <td>2011-07-05</td>\n",
              "      <td>0.0</td>\n",
              "      <td>Milwaukee Brewers</td>\n",
              "      <td>Arizona D'Backs</td>\n",
              "      <td>-0.004684</td>\n",
              "      <td>0.165294</td>\n",
              "      <td>0.488342</td>\n",
              "      <td>0.488185</td>\n",
              "      <td>0.00105</td>\n",
              "      <td>0.01097</td>\n",
              "      <td>-0.00123</td>\n",
              "      <td>0.03241</td>\n",
              "      <td>-0.0219</td>\n",
              "      <td>-0.00547</td>\n",
              "      <td>-0.27411</td>\n",
              "      <td>-2.59</td>\n",
              "      <td>-0.416325</td>\n",
              "      <td>NaN</td>\n",
              "      <td>-150.0</td>\n",
              "      <td>3.0</td>\n",
              "      <td>7.0</td>\n",
              "      <td>ARI</td>\n",
              "      <td>0.600000</td>\n",
              "      <td>0.0</td>\n",
              "      <td>1.0</td>\n",
              "      <td>0.0</td>\n",
              "      <td>-4.0</td>\n",
              "    </tr>\n",
              "  </tbody>\n",
              "</table>\n",
              "</div>"
            ],
            "text/plain": [
              "         date  win/loss  ... right/wrong run_differential\n",
              "0  2011-07-05       1.0  ...         1.0              4.0\n",
              "1  2011-07-05       0.0  ...         0.0             -2.0\n",
              "2  2011-07-05       0.0  ...         0.0             -6.0\n",
              "3  2011-07-05       1.0  ...         1.0              7.0\n",
              "4  2011-07-05       0.0  ...         0.0             -4.0\n",
              "\n",
              "[5 rows x 27 columns]"
            ]
          },
          "metadata": {},
          "execution_count": 3
        }
      ]
    },
    {
      "cell_type": "code",
      "metadata": {
        "colab": {
          "base_uri": "https://localhost:8080/",
          "height": 424
        },
        "id": "s2OzQIe0OmmL",
        "outputId": "81ea99ba-7c9c-4d75-d408-f6892e52e550"
      },
      "source": [
        "# create matrices for Ax = b\n",
        "A = gameData.iloc[:,4:17] \n",
        "A['moneyline'] = gameData.loc[:,'moneyline']\n",
        "A"
      ],
      "execution_count": 4,
      "outputs": [
        {
          "output_type": "execute_result",
          "data": {
            "text/html": [
              "<div>\n",
              "<style scoped>\n",
              "    .dataframe tbody tr th:only-of-type {\n",
              "        vertical-align: middle;\n",
              "    }\n",
              "\n",
              "    .dataframe tbody tr th {\n",
              "        vertical-align: top;\n",
              "    }\n",
              "\n",
              "    .dataframe thead th {\n",
              "        text-align: right;\n",
              "    }\n",
              "</style>\n",
              "<table border=\"1\" class=\"dataframe\">\n",
              "  <thead>\n",
              "    <tr style=\"text-align: right;\">\n",
              "      <th></th>\n",
              "      <th>ΔPE</th>\n",
              "      <th>ΔPE_10d</th>\n",
              "      <th>Log5</th>\n",
              "      <th>Whisnant</th>\n",
              "      <th>ΔOBP</th>\n",
              "      <th>ΔOBP_10d</th>\n",
              "      <th>ΔSLG</th>\n",
              "      <th>ΔSLG_10d</th>\n",
              "      <th>ΔWHIP</th>\n",
              "      <th>ΔWHIP_10d</th>\n",
              "      <th>ΔFIP</th>\n",
              "      <th>ΔSP_ERA</th>\n",
              "      <th>ΔRA_variance</th>\n",
              "      <th>moneyline</th>\n",
              "    </tr>\n",
              "  </thead>\n",
              "  <tbody>\n",
              "    <tr>\n",
              "      <th>0</th>\n",
              "      <td>0.112376</td>\n",
              "      <td>0.173056</td>\n",
              "      <td>0.678390</td>\n",
              "      <td>0.487362</td>\n",
              "      <td>-0.00226</td>\n",
              "      <td>0.02505</td>\n",
              "      <td>-0.02195</td>\n",
              "      <td>-0.00245</td>\n",
              "      <td>-0.1074</td>\n",
              "      <td>-0.33554</td>\n",
              "      <td>-0.25961</td>\n",
              "      <td>-0.32</td>\n",
              "      <td>0.627287</td>\n",
              "      <td>0.523810</td>\n",
              "    </tr>\n",
              "    <tr>\n",
              "      <th>1</th>\n",
              "      <td>0.057464</td>\n",
              "      <td>-0.276411</td>\n",
              "      <td>0.600000</td>\n",
              "      <td>0.465700</td>\n",
              "      <td>-0.01046</td>\n",
              "      <td>-0.04832</td>\n",
              "      <td>-0.00975</td>\n",
              "      <td>-0.11011</td>\n",
              "      <td>-0.1715</td>\n",
              "      <td>-0.45601</td>\n",
              "      <td>-0.89458</td>\n",
              "      <td>0.18</td>\n",
              "      <td>0.226833</td>\n",
              "      <td>0.591837</td>\n",
              "    </tr>\n",
              "    <tr>\n",
              "      <th>2</th>\n",
              "      <td>-0.060112</td>\n",
              "      <td>-0.522949</td>\n",
              "      <td>0.424474</td>\n",
              "      <td>0.432308</td>\n",
              "      <td>-0.01361</td>\n",
              "      <td>-0.04924</td>\n",
              "      <td>-0.01581</td>\n",
              "      <td>-0.08220</td>\n",
              "      <td>-0.0157</td>\n",
              "      <td>-0.41377</td>\n",
              "      <td>-0.40312</td>\n",
              "      <td>0.05</td>\n",
              "      <td>-0.087979</td>\n",
              "      <td>0.565217</td>\n",
              "    </tr>\n",
              "    <tr>\n",
              "      <th>3</th>\n",
              "      <td>-0.015314</td>\n",
              "      <td>-0.093653</td>\n",
              "      <td>0.534880</td>\n",
              "      <td>0.494705</td>\n",
              "      <td>0.01016</td>\n",
              "      <td>-0.00726</td>\n",
              "      <td>0.01269</td>\n",
              "      <td>-0.01956</td>\n",
              "      <td>-0.0122</td>\n",
              "      <td>0.05949</td>\n",
              "      <td>-0.46253</td>\n",
              "      <td>-2.32</td>\n",
              "      <td>-0.365017</td>\n",
              "      <td>0.574468</td>\n",
              "    </tr>\n",
              "    <tr>\n",
              "      <th>4</th>\n",
              "      <td>-0.004684</td>\n",
              "      <td>0.165294</td>\n",
              "      <td>0.488342</td>\n",
              "      <td>0.488185</td>\n",
              "      <td>0.00105</td>\n",
              "      <td>0.01097</td>\n",
              "      <td>-0.00123</td>\n",
              "      <td>0.03241</td>\n",
              "      <td>-0.0219</td>\n",
              "      <td>-0.00547</td>\n",
              "      <td>-0.27411</td>\n",
              "      <td>-2.59</td>\n",
              "      <td>-0.416325</td>\n",
              "      <td>0.600000</td>\n",
              "    </tr>\n",
              "    <tr>\n",
              "      <th>...</th>\n",
              "      <td>...</td>\n",
              "      <td>...</td>\n",
              "      <td>...</td>\n",
              "      <td>...</td>\n",
              "      <td>...</td>\n",
              "      <td>...</td>\n",
              "      <td>...</td>\n",
              "      <td>...</td>\n",
              "      <td>...</td>\n",
              "      <td>...</td>\n",
              "      <td>...</td>\n",
              "      <td>...</td>\n",
              "      <td>...</td>\n",
              "      <td>...</td>\n",
              "    </tr>\n",
              "    <tr>\n",
              "      <th>17950</th>\n",
              "      <td>0.171002</td>\n",
              "      <td>-0.107356</td>\n",
              "      <td>0.678307</td>\n",
              "      <td>0.592622</td>\n",
              "      <td>0.02876</td>\n",
              "      <td>-0.01592</td>\n",
              "      <td>0.05014</td>\n",
              "      <td>-0.04985</td>\n",
              "      <td>-0.0754</td>\n",
              "      <td>0.26351</td>\n",
              "      <td>-1.27734</td>\n",
              "      <td>-3.91</td>\n",
              "      <td>0.831274</td>\n",
              "      <td>0.754300</td>\n",
              "    </tr>\n",
              "    <tr>\n",
              "      <th>17951</th>\n",
              "      <td>-0.032996</td>\n",
              "      <td>0.154866</td>\n",
              "      <td>0.424606</td>\n",
              "      <td>0.465258</td>\n",
              "      <td>-0.00857</td>\n",
              "      <td>0.00797</td>\n",
              "      <td>-0.01039</td>\n",
              "      <td>0.06714</td>\n",
              "      <td>-0.0515</td>\n",
              "      <td>0.07389</td>\n",
              "      <td>-0.30324</td>\n",
              "      <td>1.70</td>\n",
              "      <td>-0.103719</td>\n",
              "      <td>0.534884</td>\n",
              "    </tr>\n",
              "    <tr>\n",
              "      <th>17952</th>\n",
              "      <td>-0.139157</td>\n",
              "      <td>0.092240</td>\n",
              "      <td>0.319915</td>\n",
              "      <td>0.472948</td>\n",
              "      <td>-0.02113</td>\n",
              "      <td>0.01019</td>\n",
              "      <td>-0.00425</td>\n",
              "      <td>0.03649</td>\n",
              "      <td>0.2598</td>\n",
              "      <td>0.36434</td>\n",
              "      <td>1.19332</td>\n",
              "      <td>2.79</td>\n",
              "      <td>-0.398356</td>\n",
              "      <td>0.341297</td>\n",
              "    </tr>\n",
              "    <tr>\n",
              "      <th>17953</th>\n",
              "      <td>-0.152471</td>\n",
              "      <td>-0.103326</td>\n",
              "      <td>0.340449</td>\n",
              "      <td>0.427517</td>\n",
              "      <td>-0.02087</td>\n",
              "      <td>0.01428</td>\n",
              "      <td>-0.06016</td>\n",
              "      <td>-0.00498</td>\n",
              "      <td>0.1644</td>\n",
              "      <td>0.53308</td>\n",
              "      <td>0.38177</td>\n",
              "      <td>-0.48</td>\n",
              "      <td>-0.551985</td>\n",
              "      <td>0.425532</td>\n",
              "    </tr>\n",
              "    <tr>\n",
              "      <th>17954</th>\n",
              "      <td>0.006089</td>\n",
              "      <td>0.218370</td>\n",
              "      <td>0.493649</td>\n",
              "      <td>0.552652</td>\n",
              "      <td>0.01768</td>\n",
              "      <td>0.07554</td>\n",
              "      <td>0.02091</td>\n",
              "      <td>0.07887</td>\n",
              "      <td>0.0728</td>\n",
              "      <td>-0.29885</td>\n",
              "      <td>0.08420</td>\n",
              "      <td>3.51</td>\n",
              "      <td>-0.156093</td>\n",
              "      <td>0.400000</td>\n",
              "    </tr>\n",
              "  </tbody>\n",
              "</table>\n",
              "<p>17955 rows × 14 columns</p>\n",
              "</div>"
            ],
            "text/plain": [
              "            ΔPE   ΔPE_10d      Log5  ...  ΔSP_ERA  ΔRA_variance  moneyline\n",
              "0      0.112376  0.173056  0.678390  ...    -0.32      0.627287   0.523810\n",
              "1      0.057464 -0.276411  0.600000  ...     0.18      0.226833   0.591837\n",
              "2     -0.060112 -0.522949  0.424474  ...     0.05     -0.087979   0.565217\n",
              "3     -0.015314 -0.093653  0.534880  ...    -2.32     -0.365017   0.574468\n",
              "4     -0.004684  0.165294  0.488342  ...    -2.59     -0.416325   0.600000\n",
              "...         ...       ...       ...  ...      ...           ...        ...\n",
              "17950  0.171002 -0.107356  0.678307  ...    -3.91      0.831274   0.754300\n",
              "17951 -0.032996  0.154866  0.424606  ...     1.70     -0.103719   0.534884\n",
              "17952 -0.139157  0.092240  0.319915  ...     2.79     -0.398356   0.341297\n",
              "17953 -0.152471 -0.103326  0.340449  ...    -0.48     -0.551985   0.425532\n",
              "17954  0.006089  0.218370  0.493649  ...     3.51     -0.156093   0.400000\n",
              "\n",
              "[17955 rows x 14 columns]"
            ]
          },
          "metadata": {},
          "execution_count": 4
        }
      ]
    },
    {
      "cell_type": "code",
      "metadata": {
        "colab": {
          "base_uri": "https://localhost:8080/"
        },
        "id": "xyv5nGoyPfBF",
        "outputId": "2f0020f2-e4a0-4a2c-ebd3-cdd5236bd0ae"
      },
      "source": [
        "b = gameData.loc[:,'run_differential']\n",
        "b"
      ],
      "execution_count": 5,
      "outputs": [
        {
          "output_type": "execute_result",
          "data": {
            "text/plain": [
              "0        4.0\n",
              "1       -2.0\n",
              "2       -6.0\n",
              "3        7.0\n",
              "4       -4.0\n",
              "        ... \n",
              "17950    1.0\n",
              "17951    1.0\n",
              "17952    5.0\n",
              "17953    5.0\n",
              "17954    6.0\n",
              "Name: run_differential, Length: 17955, dtype: float64"
            ]
          },
          "metadata": {},
          "execution_count": 5
        }
      ]
    },
    {
      "cell_type": "code",
      "metadata": {
        "id": "4ZdW7i0jAwWZ"
      },
      "source": [
        "training_A = A[:getYearIndex(gameData, 2018)]\n",
        "test_A = A[getYearIndex(gameData, 2018):]\n",
        "training_b = b[:getYearIndex(gameData, 2018)]\n",
        "test_b = b[getYearIndex(gameData, 2018):]"
      ],
      "execution_count": 6,
      "outputs": []
    },
    {
      "cell_type": "code",
      "metadata": {
        "id": "xWWtrb3_Qx37"
      },
      "source": [
        "training_A_inverse = pd.DataFrame(np.linalg.pinv(training_A.values), training_A.columns, training_A.index)"
      ],
      "execution_count": 7,
      "outputs": []
    },
    {
      "cell_type": "code",
      "metadata": {
        "colab": {
          "base_uri": "https://localhost:8080/",
          "height": 293
        },
        "id": "OKNdup2HRO8H",
        "outputId": "d80c03fe-1dc9-4961-ee7f-7f76729bd954"
      },
      "source": [
        "# check to make sure that A x A_inverse = Identity Matrix\n",
        "training_A_inverse.dot(training_A).head()"
      ],
      "execution_count": 8,
      "outputs": [
        {
          "output_type": "execute_result",
          "data": {
            "text/html": [
              "<div>\n",
              "<style scoped>\n",
              "    .dataframe tbody tr th:only-of-type {\n",
              "        vertical-align: middle;\n",
              "    }\n",
              "\n",
              "    .dataframe tbody tr th {\n",
              "        vertical-align: top;\n",
              "    }\n",
              "\n",
              "    .dataframe thead th {\n",
              "        text-align: right;\n",
              "    }\n",
              "</style>\n",
              "<table border=\"1\" class=\"dataframe\">\n",
              "  <thead>\n",
              "    <tr style=\"text-align: right;\">\n",
              "      <th></th>\n",
              "      <th>ΔPE</th>\n",
              "      <th>ΔPE_10d</th>\n",
              "      <th>Log5</th>\n",
              "      <th>Whisnant</th>\n",
              "      <th>ΔOBP</th>\n",
              "      <th>ΔOBP_10d</th>\n",
              "      <th>ΔSLG</th>\n",
              "      <th>ΔSLG_10d</th>\n",
              "      <th>ΔWHIP</th>\n",
              "      <th>ΔWHIP_10d</th>\n",
              "      <th>ΔFIP</th>\n",
              "      <th>ΔSP_ERA</th>\n",
              "      <th>ΔRA_variance</th>\n",
              "      <th>moneyline</th>\n",
              "    </tr>\n",
              "  </thead>\n",
              "  <tbody>\n",
              "    <tr>\n",
              "      <th>ΔPE</th>\n",
              "      <td>1.000000e+00</td>\n",
              "      <td>-1.658396e-15</td>\n",
              "      <td>1.087672e-15</td>\n",
              "      <td>-1.049508e-15</td>\n",
              "      <td>-1.179612e-16</td>\n",
              "      <td>2.404760e-16</td>\n",
              "      <td>-6.337975e-16</td>\n",
              "      <td>-2.042637e-16</td>\n",
              "      <td>-2.669306e-16</td>\n",
              "      <td>7.389922e-16</td>\n",
              "      <td>-6.123574e-16</td>\n",
              "      <td>1.082467e-15</td>\n",
              "      <td>-1.868297e-15</td>\n",
              "      <td>1.283695e-16</td>\n",
              "    </tr>\n",
              "    <tr>\n",
              "      <th>ΔPE_10d</th>\n",
              "      <td>3.318743e-16</td>\n",
              "      <td>1.000000e+00</td>\n",
              "      <td>2.745200e-16</td>\n",
              "      <td>4.458239e-16</td>\n",
              "      <td>1.062349e-16</td>\n",
              "      <td>-1.747734e-16</td>\n",
              "      <td>3.103529e-16</td>\n",
              "      <td>1.884072e-16</td>\n",
              "      <td>-3.881444e-17</td>\n",
              "      <td>5.117434e-17</td>\n",
              "      <td>-1.279359e-16</td>\n",
              "      <td>1.087238e-15</td>\n",
              "      <td>6.110563e-16</td>\n",
              "      <td>1.691355e-16</td>\n",
              "    </tr>\n",
              "    <tr>\n",
              "      <th>Log5</th>\n",
              "      <td>-2.428613e-17</td>\n",
              "      <td>2.776642e-16</td>\n",
              "      <td>1.000000e+00</td>\n",
              "      <td>5.724587e-17</td>\n",
              "      <td>-5.487147e-16</td>\n",
              "      <td>-3.144186e-18</td>\n",
              "      <td>3.503328e-16</td>\n",
              "      <td>1.095044e-17</td>\n",
              "      <td>2.354887e-16</td>\n",
              "      <td>3.419574e-16</td>\n",
              "      <td>-7.407269e-16</td>\n",
              "      <td>-2.289835e-15</td>\n",
              "      <td>3.955170e-16</td>\n",
              "      <td>-1.007874e-15</td>\n",
              "    </tr>\n",
              "    <tr>\n",
              "      <th>Whisnant</th>\n",
              "      <td>1.388863e-16</td>\n",
              "      <td>1.109789e-15</td>\n",
              "      <td>1.020017e-15</td>\n",
              "      <td>1.000000e+00</td>\n",
              "      <td>1.560980e-16</td>\n",
              "      <td>2.450297e-17</td>\n",
              "      <td>-2.604796e-16</td>\n",
              "      <td>1.724830e-16</td>\n",
              "      <td>8.283305e-17</td>\n",
              "      <td>-4.839878e-16</td>\n",
              "      <td>2.133710e-15</td>\n",
              "      <td>2.740863e-16</td>\n",
              "      <td>1.477117e-15</td>\n",
              "      <td>3.538836e-16</td>\n",
              "    </tr>\n",
              "    <tr>\n",
              "      <th>ΔOBP</th>\n",
              "      <td>-6.279699e-16</td>\n",
              "      <td>4.850287e-15</td>\n",
              "      <td>2.636780e-15</td>\n",
              "      <td>4.551914e-15</td>\n",
              "      <td>1.000000e+00</td>\n",
              "      <td>-4.770490e-17</td>\n",
              "      <td>9.306791e-16</td>\n",
              "      <td>7.589415e-17</td>\n",
              "      <td>2.563921e-15</td>\n",
              "      <td>-1.387779e-15</td>\n",
              "      <td>6.272760e-15</td>\n",
              "      <td>-2.470246e-15</td>\n",
              "      <td>7.494005e-15</td>\n",
              "      <td>3.663736e-15</td>\n",
              "    </tr>\n",
              "  </tbody>\n",
              "</table>\n",
              "</div>"
            ],
            "text/plain": [
              "                   ΔPE       ΔPE_10d  ...  ΔRA_variance     moneyline\n",
              "ΔPE       1.000000e+00 -1.658396e-15  ... -1.868297e-15  1.283695e-16\n",
              "ΔPE_10d   3.318743e-16  1.000000e+00  ...  6.110563e-16  1.691355e-16\n",
              "Log5     -2.428613e-17  2.776642e-16  ...  3.955170e-16 -1.007874e-15\n",
              "Whisnant  1.388863e-16  1.109789e-15  ...  1.477117e-15  3.538836e-16\n",
              "ΔOBP     -6.279699e-16  4.850287e-15  ...  7.494005e-15  3.663736e-15\n",
              "\n",
              "[5 rows x 14 columns]"
            ]
          },
          "metadata": {},
          "execution_count": 8
        }
      ]
    },
    {
      "cell_type": "code",
      "metadata": {
        "colab": {
          "base_uri": "https://localhost:8080/"
        },
        "id": "vYwwr1LaEHEP",
        "outputId": "34c087c5-d4cf-4864-b051-0eae50c273fb"
      },
      "source": [
        "# x* = (A_transpose x A)^-1 * A_transpose x b\n",
        "Atranspose_A = (training_A.transpose().dot(training_A))\n",
        "Atranspose_A_inverse = pd.DataFrame(np.linalg.pinv(Atranspose_A.values), Atranspose_A.columns, Atranspose_A.index)\n",
        "x_star = (Atranspose_A_inverse.dot(training_A.transpose())).dot(training_b)\n",
        "x_star"
      ],
      "execution_count": 9,
      "outputs": [
        {
          "output_type": "execute_result",
          "data": {
            "text/plain": [
              "ΔPE              6.070140\n",
              "ΔPE_10d          0.341036\n",
              "Log5            -3.235293\n",
              "Whisnant        -8.138647\n",
              "ΔOBP             5.964786\n",
              "ΔOBP_10d        -1.480462\n",
              "ΔSLG             3.526747\n",
              "ΔSLG_10d        -0.719059\n",
              "ΔWHIP            1.158481\n",
              "ΔWHIP_10d       -0.457091\n",
              "ΔFIP             0.284098\n",
              "ΔSP_ERA          0.000292\n",
              "ΔRA_variance    -0.048634\n",
              "moneyline       10.567578\n",
              "dtype: float64"
            ]
          },
          "metadata": {},
          "execution_count": 9
        }
      ]
    },
    {
      "cell_type": "code",
      "metadata": {
        "colab": {
          "base_uri": "https://localhost:8080/"
        },
        "id": "0K7DBI_JFh8B",
        "outputId": "8b4f6fbd-5c85-4f3f-96a7-7ce28644015d"
      },
      "source": [
        "# alternative method to solve x* = (A_transpose x A)^-1 * A_transpose x y\n",
        "beta_hat = np.linalg.inv(training_A.T.dot(training_A)).dot(training_A.T).dot(training_b)\n",
        "beta_hat"
      ],
      "execution_count": 10,
      "outputs": [
        {
          "output_type": "execute_result",
          "data": {
            "text/plain": [
              "array([ 6.07014039e+00,  3.41035597e-01, -3.23529337e+00, -8.13864684e+00,\n",
              "        5.96478648e+00, -1.48046231e+00,  3.52674735e+00, -7.19059454e-01,\n",
              "        1.15848092e+00, -4.57090609e-01,  2.84097509e-01,  2.92310553e-04,\n",
              "       -4.86340991e-02,  1.05675778e+01])"
            ]
          },
          "metadata": {},
          "execution_count": 10
        }
      ]
    },
    {
      "cell_type": "code",
      "metadata": {
        "id": "jWVBDw2ujvdm"
      },
      "source": [
        "training_predictions = training_A.dot(x_star)\n",
        "test_predictions = test_A.dot(x_star)"
      ],
      "execution_count": 11,
      "outputs": []
    },
    {
      "cell_type": "code",
      "metadata": {
        "colab": {
          "base_uri": "https://localhost:8080/"
        },
        "id": "q0s1mf6HN0jl",
        "outputId": "4dea6924-dff0-4cf1-958d-cdf6783f8d94"
      },
      "source": [
        "print('Model Errors:')\n",
        "print('Training Set Mean Squared Error:', round(metrics.mean_squared_error(training_b, training_predictions),3))\n",
        "print('Test Set Mean Squared Error:', round(metrics.mean_squared_error(test_b, test_predictions),3))\n",
        "print('------------------------------------------')\n",
        "print('Training Set Mean Absolute Error:', round(metrics.mean_absolute_error(training_b, training_predictions),3))\n",
        "print('Test Set Mean Absolute Error:', round(metrics.mean_absolute_error(test_b, test_predictions),3))\n",
        "print('------------------------------------------')\n",
        "print('Training Set Root Mean Squared Error:', round(np.sqrt(metrics.mean_squared_error(training_b, training_predictions)),3))\n",
        "print('Test Set Root Mean Squared Error:', round(np.sqrt(metrics.mean_squared_error(test_b, test_predictions)),3))"
      ],
      "execution_count": 13,
      "outputs": [
        {
          "output_type": "stream",
          "name": "stdout",
          "text": [
            "Model Errors:\n",
            "Training Set Mean Squared Error: 17.344\n",
            "Test Set Mean Squared Error: 19.803\n",
            "------------------------------------------\n",
            "Training Set Mean Absolute Error: 3.263\n",
            "Test Set Mean Absolute Error: 3.447\n",
            "------------------------------------------\n",
            "Training Set Root Mean Squared Error: 4.165\n",
            "Test Set Root Mean Squared Error: 4.45\n"
          ]
        }
      ]
    },
    {
      "cell_type": "code",
      "metadata": {
        "colab": {
          "base_uri": "https://localhost:8080/"
        },
        "id": "PVj05z0oQ9uX",
        "outputId": "e425c6f9-cd19-4816-9b92-6ee2d7a082f2"
      },
      "source": [
        "regression = LinearRegression()\n",
        "X_test = test_A\n",
        "X_train = training_A\n",
        "regression.fit(X_train, training_b)\n",
        "regressionTrain = regression.predict(X_train)\n",
        "regressionTest = regression.predict(X_test)\n",
        "print('Training Set Mean Squared Error:', round(metrics.mean_squared_error(training_b, regressionTrain),3))\n",
        "print('Test Set Mean Squared Error:', round(metrics.mean_squared_error(test_b, regressionTest),3))\n",
        "print('------------------------------------------')\n",
        "print('Training Set Mean Absolute Error:', round(metrics.mean_absolute_error(training_b, regressionTrain),3))\n",
        "print('Test Set Mean Absolute Error:', round(metrics.mean_absolute_error(test_b, regressionTest),3))\n",
        "print('------------------------------------------')\n",
        "print('Training Set Root Mean Squared Error:', round(np.sqrt(metrics.mean_squared_error(training_b, regressionTrain)),3))\n",
        "print('Test Set Root Mean Squared Error:', round(np.sqrt(metrics.mean_squared_error(test_b, regressionTest)),3))"
      ],
      "execution_count": null,
      "outputs": [
        {
          "output_type": "stream",
          "name": "stdout",
          "text": [
            "Training Set Mean Squared Error: 17.316\n",
            "Test Set Mean Squared Error: 19.785\n",
            "------------------------------------------\n",
            "Training Set Mean Absolute Error: 3.262\n",
            "Test Set Mean Absolute Error: 3.443\n",
            "------------------------------------------\n",
            "Training Set Root Mean Squared Error: 4.161\n",
            "Test Set Root Mean Squared Error: 4.448\n"
          ]
        }
      ]
    },
    {
      "cell_type": "code",
      "metadata": {
        "colab": {
          "base_uri": "https://localhost:8080/"
        },
        "id": "0aGMx7gMTdn9",
        "outputId": "1bd025a5-65ba-482a-d940-8fecbd6adc4a"
      },
      "source": [
        "print('MoneyLine Errors:')\n",
        "regression = LinearRegression()\n",
        "x = test_A['moneyline']\n",
        "X_test = x[:,np.newaxis]\n",
        "x = training_A['moneyline']\n",
        "X_train = x[:,np.newaxis]\n",
        "regression.fit(X_train, training_b)\n",
        "regressionTrain = regression.predict(X_train)\n",
        "regressionTest = regression.predict(X_test)\n",
        "print('Training Set Mean Squared Error:', round(metrics.mean_squared_error(training_b, regressionTrain),3))\n",
        "print('Test Set Mean Squared Error:', round(metrics.mean_squared_error(test_b, regressionTest),3))\n",
        "print('------------------------------------------')\n",
        "print('Training Set Mean Absolute Error:', round(metrics.mean_absolute_error(training_b, regressionTrain),3))\n",
        "print('Test Set Mean Absolute Error:', round(metrics.mean_absolute_error(test_b, regressionTest),3))\n",
        "print('------------------------------------------')\n",
        "print('Training Set Root Mean Squared Error:', round(np.sqrt(metrics.mean_squared_error(training_b, regressionTrain)),3))\n",
        "print('Test Set Root Mean Squared Error:', round(np.sqrt(metrics.mean_squared_error(test_b, regressionTest)),3))\n",
        "print('                                           ')"
      ],
      "execution_count": 14,
      "outputs": [
        {
          "output_type": "stream",
          "name": "stdout",
          "text": [
            "MoneyLine Errors:\n",
            "Training Set Mean Squared Error: 17.34\n",
            "Test Set Mean Squared Error: 19.747\n",
            "------------------------------------------\n",
            "Training Set Mean Absolute Error: 3.264\n",
            "Test Set Mean Absolute Error: 3.437\n",
            "------------------------------------------\n",
            "Training Set Root Mean Squared Error: 4.164\n",
            "Test Set Root Mean Squared Error: 4.444\n",
            "                                           \n"
          ]
        },
        {
          "output_type": "stream",
          "name": "stderr",
          "text": [
            "/usr/local/lib/python3.7/dist-packages/ipykernel_launcher.py:4: FutureWarning: Support for multi-dimensional indexing (e.g. `obj[:, None]`) is deprecated and will be removed in a future version.  Convert to a numpy array before indexing instead.\n",
            "  after removing the cwd from sys.path.\n",
            "/usr/local/lib/python3.7/dist-packages/ipykernel_launcher.py:6: FutureWarning: Support for multi-dimensional indexing (e.g. `obj[:, None]`) is deprecated and will be removed in a future version.  Convert to a numpy array before indexing instead.\n",
            "  \n"
          ]
        }
      ]
    },
    {
      "cell_type": "code",
      "metadata": {
        "colab": {
          "base_uri": "https://localhost:8080/",
          "height": 428
        },
        "id": "FNVIxa_updEG",
        "outputId": "5bcaecc6-f24c-47db-cb47-567ae82910f5"
      },
      "source": [
        "visualize = ResidualsPlot(regression)\n",
        "visualize.fit(A, b)\n",
        "visualize.poof()"
      ],
      "execution_count": null,
      "outputs": [
        {
          "output_type": "stream",
          "name": "stderr",
          "text": [
            "/usr/local/lib/python3.7/dist-packages/sklearn/base.py:446: UserWarning: X does not have valid feature names, but LinearRegression was fitted with feature names\n",
            "  \"X does not have valid feature names, but\"\n"
          ]
        },
        {
          "output_type": "display_data",
          "data": {
            "image/png": "[encoded data removed]",
            "text/plain": [
              "<Figure size 576x396 with 2 Axes>"
            ]
          },
          "metadata": {}
        },
        {
          "output_type": "execute_result",
          "data": {
            "text/plain": [
              "<matplotlib.axes._subplots.AxesSubplot at 0x7f224aefebd0>"
            ]
          },
          "metadata": {},
          "execution_count": 87
        }
      ]
    }
  ]
}